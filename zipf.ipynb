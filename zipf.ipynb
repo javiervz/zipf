{
  "nbformat": 4,
  "nbformat_minor": 0,
  "metadata": {
    "colab": {
      "name": "zipf.ipynb",
      "version": "0.3.2",
      "provenance": [],
      "collapsed_sections": [],
      "include_colab_link": true
    },
    "kernelspec": {
      "name": "python3",
      "display_name": "Python 3"
    }
  },
  "cells": [
    {
      "cell_type": "markdown",
      "metadata": {
        "id": "view-in-github",
        "colab_type": "text"
      },
      "source": [
        "<a href=\"https://colab.research.google.com/github/javiervz/zipf/blob/master/zipf.ipynb\" target=\"_parent\"><img src=\"https://colab.research.google.com/assets/colab-badge.svg\" alt=\"Open In Colab\"/></a>"
      ]
    },
    {
      "metadata": {
        "id": "k_FFUcAF53U9",
        "colab_type": "text"
      },
      "cell_type": "markdown",
      "source": [
        "**A decentralized route to the origins of scaling in human language**"
      ]
    },
    {
      "metadata": {
        "id": "gU_J7TyG6PSB",
        "colab_type": "text"
      },
      "cell_type": "markdown",
      "source": [
        "First, we create a population "
      ]
    },
    {
      "metadata": {
        "id": "dae-aooi5uGy",
        "colab_type": "code",
        "colab": {}
      },
      "cell_type": "code",
      "source": [
        "import networkx as nx\n",
        "import numpy as np\n",
        "import random"
      ],
      "execution_count": 0,
      "outputs": []
    },
    {
      "metadata": {
        "id": "db5QZ_FR514F",
        "colab_type": "code",
        "colab": {}
      },
      "cell_type": "code",
      "source": [
        "# periodic grid graph of dim 2 and lenght L\n",
        "def grid(L):\n",
        "  G = nx.grid_graph([L,L])\n",
        "  return G"
      ],
      "execution_count": 0,
      "outputs": []
    },
    {
      "metadata": {
        "id": "sDBp6yHUB3-1",
        "colab_type": "code",
        "colab": {}
      },
      "cell_type": "code",
      "source": [
        "# matrix of ones and zeros (at random)\n",
        "def matrix(n):\n",
        "  M=np.array([0 if random.random()<0.5 else 1 for i in range(n**2)]).reshape(n,n)\n",
        "  return M"
      ],
      "execution_count": 0,
      "outputs": []
    },
    {
      "metadata": {
        "id": "obCJdNRz9APR",
        "colab_type": "code",
        "colab": {}
      },
      "cell_type": "code",
      "source": [
        "# a population is defined by a (i) grid; and (ii) a dict of numpy matrices (representing vocabularies)\n",
        "# L -> lenght of the grid \n",
        "# n -> number of words (rows of the lexical matrices)\n",
        "# n -> number of meanings (columns of lexical matrices) (that is, only squared matrices)\n",
        "def population(L,n):\n",
        "  # grid graph\n",
        "  G=grid(L)\n",
        "  nodes=G.nodes()\n",
        "  lexical_dict={i:matrix(n) for i in range(len(G))}\n",
        "  return [G,lexical_dict]"
      ],
      "execution_count": 0,
      "outputs": []
    },
    {
      "metadata": {
        "id": "DRZx1NZE-aWs",
        "colab_type": "code",
        "outputId": "af253648-a7a4-422e-a5d3-2d91b679f986",
        "colab": {
          "base_uri": "https://localhost:8080/",
          "height": 495
        }
      },
      "cell_type": "code",
      "source": [
        "population(5,2)"
      ],
      "execution_count": 0,
      "outputs": [
        {
          "output_type": "execute_result",
          "data": {
            "text/plain": [
              "[<networkx.classes.graph.Graph at 0x7f6308beea90>, {0: array([[0, 1],\n",
              "         [1, 0]]), 1: array([[1, 0],\n",
              "         [1, 1]]), 2: array([[0, 1],\n",
              "         [0, 1]]), 3: array([[1, 0],\n",
              "         [1, 0]]), 4: array([[1, 0],\n",
              "         [1, 0]]), 5: array([[1, 0],\n",
              "         [1, 0]]), 6: array([[1, 1],\n",
              "         [1, 0]]), 7: array([[1, 0],\n",
              "         [1, 1]]), 8: array([[1, 1],\n",
              "         [0, 0]]), 9: array([[1, 0],\n",
              "         [0, 1]]), 10: array([[1, 0],\n",
              "         [1, 0]]), 11: array([[1, 0],\n",
              "         [1, 0]]), 12: array([[0, 1],\n",
              "         [1, 0]]), 13: array([[1, 1],\n",
              "         [0, 1]]), 14: array([[0, 1],\n",
              "         [0, 1]]), 15: array([[0, 0],\n",
              "         [0, 0]]), 16: array([[1, 0],\n",
              "         [1, 1]]), 17: array([[0, 1],\n",
              "         [0, 0]]), 18: array([[0, 0],\n",
              "         [0, 0]]), 19: array([[0, 0],\n",
              "         [1, 1]]), 20: array([[1, 1],\n",
              "         [0, 1]]), 21: array([[1, 1],\n",
              "         [0, 0]]), 22: array([[1, 1],\n",
              "         [0, 1]]), 23: array([[0, 0],\n",
              "         [1, 0]]), 24: array([[1, 0],\n",
              "         [0, 1]])}]"
            ]
          },
          "metadata": {
            "tags": []
          },
          "execution_count": 26
        }
      ]
    },
    {
      "metadata": {
        "id": "8X7dysfdFSjd",
        "colab_type": "text"
      },
      "cell_type": "markdown",
      "source": [
        "Second, we define some functions on lexical interests"
      ]
    },
    {
      "metadata": {
        "id": "df_bvR90FZ_4",
        "colab_type": "code",
        "colab": {}
      },
      "cell_type": "code",
      "source": [
        "# this function allows us to consider the level of lexical compromise of agents\n",
        "# matrix -> lexical matrix of the speaker\n",
        "# meaning -> selected column\n",
        "# speaker_interest -> if 0 the speaker selects the most ambiguous word; else, the speaker selects the least ambiguous word\n",
        "def select_word(matrix,meaning,speaker_interest):\n",
        "  # sum of rows (number of meanings!)\n",
        "  sum_rows=matrix.sum(axis=1)\n",
        "  # select the words with the most ambiguity if speaker==0\n",
        "  if speaker_interest==0:\n",
        "    ambiguity=max(sum_rows)\n",
        "  else:\n",
        "    ambiguity=min(sum_rows)\n",
        "  # indices associated to ambiguity\n",
        "  indices_ambiguity=[index for index in range(len(sum_rows)) if sum_rows[index]==ambiguity]\n",
        "  # select only one word!\n",
        "  word=random.choice(indices_ambiguity)\n",
        "  return word\n",
        "  "
      ],
      "execution_count": 0,
      "outputs": []
    },
    {
      "metadata": {
        "id": "lTxC-nWvR9k-",
        "colab_type": "code",
        "colab": {}
      },
      "cell_type": "code",
      "source": [
        "# Now, we define a simple speaker-hearer interaction\n",
        "# speaker, hearer -> agent's locations\n",
        "# lexical_dict -> dictionary of lexical metrices\n",
        "# speaker_interest -> if 0 the speaker selects the most ambiguous word; else, the speaker selects the least ambiguous word\n",
        "# meaning -> the topic of the conversation\n",
        "def interaction(speaker,hearer,lexical_dict,speaker_interest,meaning):\n",
        "  # the speaker selects one word according to its lexical compromise\n",
        "  word=select_word(matrix,meaning,speaker_interest)\n",
        "  # now, simple naming game rules\n",
        "  "
      ],
      "execution_count": 0,
      "outputs": []
    },
    {
      "metadata": {
        "id": "PK3DxFWVVmg_",
        "colab_type": "code",
        "colab": {}
      },
      "cell_type": "code",
      "source": [
        ""
      ],
      "execution_count": 0,
      "outputs": []
    },
    {
      "metadata": {
        "id": "PMWm2lznSKOI",
        "colab_type": "code",
        "colab": {}
      },
      "cell_type": "code",
      "source": [
        ""
      ],
      "execution_count": 0,
      "outputs": []
    },
    {
      "metadata": {
        "id": "yzfm7-TRSDKt",
        "colab_type": "code",
        "outputId": "b6b08e5e-d0f7-4e6d-9c44-59cf18239c17",
        "colab": {
          "base_uri": "https://localhost:8080/",
          "height": 35
        }
      },
      "cell_type": "code",
      "source": [
        ""
      ],
      "execution_count": 0,
      "outputs": [
        {
          "output_type": "execute_result",
          "data": {
            "text/plain": [
              "2"
            ]
          },
          "metadata": {
            "tags": []
          },
          "execution_count": 49
        }
      ]
    }
  ]
}